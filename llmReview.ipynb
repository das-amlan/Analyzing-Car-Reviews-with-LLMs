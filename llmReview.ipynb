{
  "cells": [
    {
      "cell_type": "markdown",
      "source": [
        "# Analyzing Car Reviews with LLMs"
      ],
      "metadata": {
        "id": "v_OhBe1gLc5P"
      },
      "id": "v_OhBe1gLc5P"
    },
    {
      "source": [
        "**Car-ing is sharing**, an auto dealership company for car sales and rental, is taking their services to the next level thanks to **Large Language Models (LLMs)**.\n",
        "\n",
        "As their newly recruited AI and NLP developer, you've been asked to prototype a chatbot app with multiple functionalities that not only assist customers but also provide support to human agents in the company.\n",
        "\n",
        "The solution should receive textual prompts and use a variety of pre-trained Hugging Face LLMs to respond to a series of tasks, e.g. classifying the sentiment in a car’s text review, answering a customer question, summarizing or translating text, etc.\n"
      ],
      "metadata": {
        "id": "9aabafca-8129-4943-b865-d5e897637253"
      },
      "id": "9aabafca-8129-4943-b865-d5e897637253",
      "cell_type": "markdown"
    },
    {
      "cell_type": "markdown",
      "source": [
        "## Import necessary packages"
      ],
      "metadata": {
        "id": "ewaYrf1bLXTk"
      },
      "id": "ewaYrf1bLXTk"
    },
    {
      "source": [
        "import pandas as pd\n",
        "import torch\n",
        "import evaluate\n",
        "from transformers import pipeline\n",
        "\n",
        "from transformers import logging\n",
        "logging.set_verbosity(logging.WARNING)"
      ],
      "metadata": {
        "executionCancelledAt": null,
        "executionTime": 8,
        "lastExecutedAt": 1756624112249,
        "lastScheduledRunId": null,
        "lastSuccessfullyExecutedCode": "# Import necessary packages\nimport pandas as pd\nimport torch\nfrom transformers import pipeline\n\nfrom transformers import logging\nlogging.set_verbosity(logging.WARNING)",
        "outputsMetadata": {
          "0": {
            "height": 416,
            "type": "stream"
          }
        },
        "jupyter": {
          "outputs_hidden": false,
          "source_hidden": false
        },
        "lastExecutedByKernel": "979f7325-9ca2-4d5b-91c7-f70ee5d7c0da",
        "id": "5325a4c0-ceb3-4b66-acd2-5eadcefe3a63"
      },
      "id": "5325a4c0-ceb3-4b66-acd2-5eadcefe3a63",
      "cell_type": "code",
      "execution_count": null,
      "outputs": []
    },
    {
      "source": [
        "## Load Dataset"
      ],
      "metadata": {
        "id": "7f58ada2-992f-44fb-b05b-d1979ff1237b"
      },
      "cell_type": "markdown",
      "id": "7f58ada2-992f-44fb-b05b-d1979ff1237b"
    },
    {
      "source": [
        "# Load the car reviews dataset\n",
        "file_path = \"data/car_reviews.csv\"\n",
        "df = pd.read_csv(file_path, delimiter=\";\")"
      ],
      "metadata": {
        "executionCancelledAt": null,
        "executionTime": 51,
        "lastExecutedAt": 1756624112348,
        "lastExecutedByKernel": "979f7325-9ca2-4d5b-91c7-f70ee5d7c0da",
        "lastScheduledRunId": null,
        "lastSuccessfullyExecutedCode": "# Load the car reviews dataset\nfile_path = \"data/car_reviews.csv\"\ndf = pd.read_csv(file_path, delimiter=\";\")",
        "id": "f5dce36f-6c2c-4d63-bb5a-d7dc413589b3"
      },
      "cell_type": "code",
      "id": "f5dce36f-6c2c-4d63-bb5a-d7dc413589b3",
      "outputs": [],
      "execution_count": null
    },
    {
      "source": [
        "df.head()"
      ],
      "metadata": {
        "executionCancelledAt": null,
        "executionTime": 52,
        "lastExecutedAt": 1756624112400,
        "lastExecutedByKernel": "979f7325-9ca2-4d5b-91c7-f70ee5d7c0da",
        "lastScheduledRunId": null,
        "lastSuccessfullyExecutedCode": "df.head()",
        "outputsMetadata": {
          "0": {
            "height": 550,
            "type": "dataFrame",
            "tableState": {
              "customFilter": {
                "const": {
                  "type": "boolean",
                  "valid": true,
                  "value": true
                },
                "id": "fafd898f-a09a-40b8-96f5-7a35dc3d4f08",
                "nodeType": "const"
              }
            }
          }
        },
        "id": "974aeda4-16b6-49e7-9776-f647f6a2c7b2",
        "outputId": "6c907fd5-0079-49a6-b2f3-1fb276649221"
      },
      "cell_type": "code",
      "id": "974aeda4-16b6-49e7-9776-f647f6a2c7b2",
      "outputs": [
        {
          "output_type": "execute_result",
          "data": {
            "application/com.datacamp.data-table.v2+json": {
              "table": {
                "schema": {
                  "fields": [
                    {
                      "name": "index",
                      "type": "integer"
                    },
                    {
                      "name": "Review",
                      "type": "string"
                    },
                    {
                      "name": "Class",
                      "type": "string"
                    }
                  ],
                  "primaryKey": [
                    "index"
                  ],
                  "pandas_version": "1.4.0"
                },
                "data": {
                  "index": [
                    0,
                    1,
                    2,
                    3,
                    4
                  ],
                  "Review": [
                    "I am very satisfied with my 2014 Nissan NV SL. I use this van for my business deliveries and personal use. Camping, road trips, etc. We dont have any children so I store most of the seats in my warehouse. I wanted the passenger van for the rear air conditioning. We drove our van from Florida to California for a Cross Country trip in 2014. We averaged about 18 mpg. We drove thru a lot of rain and It was a very comfortable and stable vehicle. The V8 Nissan Titan engine is a 500k mile engine. It has been tested many times by delivery and trucking companies. This is why Nissan gives you a 5 year or 100k mile bumper to bumper warranty. Many people are scared about driving this van because of its size. But with front and rear sonar sensors, large mirrors and the back up camera. It is easy to drive. The front and rear sensors also monitor the front and rear sides of the bumpers making it easier to park close to objects. Our Nissan NV is a Tow Monster. It pulls our 5000 pound travel trailer like its not even there. I have plenty of power to pass a vehicle if needed. The 5.6 liter engine produces 317 hp. I have owned Chevy and Ford vans and there were not very comfortable and had little cockpit room. The Nissan NV is the only vehicle made that has the engine forward like a pick up truck giving the driver plenty of room and comfort in the cockpit area. I dont have any negatives to say about my NV. This is a wide vehicle. The only modification I would like to see from Nissan is for them to add amber side mirror marker lights.BTW. I now own a 2016 Nissan NVP SL. Love it.",
                    "The car is fine. It's a bit loud and not very powerful. On one hand, compared to its peers, the interior is well-built. The transmission failed a few years ago, and the dealer replaced it under warranty with no issues. Now, about 60k miles later, the transmission is failing again. It sounds like a truck, and the issues are well-documented. The dealer tells me it is normal, refusing to do anything to resolve the issue. After owning the car for 4 years, there are many other vehicles I would purchase over this one. Initially, I really liked what the brand is about: ride quality, reliability, etc. But I will not purchase another one. Despite these concerns, I must say, the level of comfort in the car has always been satisfactory, but not worth the rest of issues found.",
                    "My first foreign car. Love it, I would buy another.",
                    "I've come across numerous reviews praising the Rogue, and I genuinely feel like I might be missing something. It's only been a week since I got the car, and I am genuinely disappointed. I truly wish I could return it. My main concern revolves around what I see as a significant design flaw (which I believe also exists in the Murano, though that wasn't much better and considerably pricier). The rear windshield is just too small. The headrests in the back seat obstruct the sides of the rearview window. This \"Crossover\" feels more like a cheaply made compact car. My other vehicle is a Sonata, and it provides a significantly quieter and smoother ride. I did not anticipate this car to ride so roughly; my 2006 Pathfinder had a smoother ride! I would rate this car a 5 all around.",
                    "I've been dreaming of owning an SUV for quite a while, but I've been driving cars that were already paid for during an extended period. I ultimately made the decision to transition to a brand-new car, which, of course, involved taking on new payments. However, given that I don't drive extensively, I was inclined to avoid a substantial financial commitment. The Nissan Rogue provides me with the desired SUV experience without burdening me with an exorbitant payment; the financial arrangement is quite reasonable. Handling and styling are great; I have hauled 12 bags of mulch in the back with the seats down and could have held more. I am VERY satisfied overall. I find myself needing to exercise extra caution when making lane changes, particularly owing to the blind spots resulting from the small side windows situated towards the rear of the vehicle. To address this concern, I am actively engaged in making adjustments to my mirrors and consciously reducing the frequency of lane changes. The engine delivers strong performance, and the ride is really smooth."
                  ],
                  "Class": [
                    "POSITIVE",
                    "NEGATIVE",
                    "POSITIVE",
                    "NEGATIVE",
                    "POSITIVE"
                  ]
                }
              },
              "total_rows": 5,
              "truncation_type": null
            },
            "text/plain": "                                              Review     Class\n0  I am very satisfied with my 2014 Nissan NV SL....  POSITIVE\n1  The car is fine. It's a bit loud and not very ...  NEGATIVE\n2  My first foreign car. Love it, I would buy ano...  POSITIVE\n3  I've come across numerous reviews praising the...  NEGATIVE\n4  I've been dreaming of owning an SUV for quite ...  POSITIVE",
            "text/html": "<div>\n<style scoped>\n    .dataframe tbody tr th:only-of-type {\n        vertical-align: middle;\n    }\n\n    .dataframe tbody tr th {\n        vertical-align: top;\n    }\n\n    .dataframe thead th {\n        text-align: right;\n    }\n</style>\n<table border=\"1\" class=\"dataframe\">\n  <thead>\n    <tr style=\"text-align: right;\">\n      <th></th>\n      <th>Review</th>\n      <th>Class</th>\n    </tr>\n  </thead>\n  <tbody>\n    <tr>\n      <th>0</th>\n      <td>I am very satisfied with my 2014 Nissan NV SL....</td>\n      <td>POSITIVE</td>\n    </tr>\n    <tr>\n      <th>1</th>\n      <td>The car is fine. It's a bit loud and not very ...</td>\n      <td>NEGATIVE</td>\n    </tr>\n    <tr>\n      <th>2</th>\n      <td>My first foreign car. Love it, I would buy ano...</td>\n      <td>POSITIVE</td>\n    </tr>\n    <tr>\n      <th>3</th>\n      <td>I've come across numerous reviews praising the...</td>\n      <td>NEGATIVE</td>\n    </tr>\n    <tr>\n      <th>4</th>\n      <td>I've been dreaming of owning an SUV for quite ...</td>\n      <td>POSITIVE</td>\n    </tr>\n  </tbody>\n</table>\n</div>"
          },
          "metadata": {
            "application/com.datacamp.data-table.v2+json": {
              "status": "success"
            }
          },
          "execution_count": 73
        }
      ],
      "execution_count": null
    },
    {
      "source": [
        "df.info()"
      ],
      "metadata": {
        "executionCancelledAt": null,
        "executionTime": 57,
        "lastExecutedAt": 1756624112457,
        "lastExecutedByKernel": "979f7325-9ca2-4d5b-91c7-f70ee5d7c0da",
        "lastScheduledRunId": null,
        "lastSuccessfullyExecutedCode": "df.info()",
        "outputsMetadata": {
          "0": {
            "height": 206,
            "type": "stream"
          }
        },
        "id": "a40ce029-744f-499c-8861-11fe32fa9658",
        "outputId": "1c13dcc6-4c46-4be8-9740-4033128c9e24"
      },
      "cell_type": "code",
      "id": "a40ce029-744f-499c-8861-11fe32fa9658",
      "outputs": [
        {
          "output_type": "stream",
          "name": "stdout",
          "text": "<class 'pandas.core.frame.DataFrame'>\nRangeIndex: 5 entries, 0 to 4\nData columns (total 2 columns):\n #   Column  Non-Null Count  Dtype \n---  ------  --------------  ----- \n 0   Review  5 non-null      object\n 1   Class   5 non-null      object\ndtypes: object(2)\nmemory usage: 208.0+ bytes\n"
        }
      ],
      "execution_count": null
    },
    {
      "source": [
        "Put the car reviews and their associated sentiment labels in two lists"
      ],
      "metadata": {
        "id": "ff23dce8-05a9-43fb-918e-ece17cfb23f1"
      },
      "cell_type": "markdown",
      "id": "ff23dce8-05a9-43fb-918e-ece17cfb23f1"
    },
    {
      "source": [
        "reviews = df['Review'].tolist()\n",
        "real_labels = df['Class'].tolist()"
      ],
      "metadata": {
        "executionCancelledAt": null,
        "executionTime": 47,
        "lastExecutedAt": 1756624112504,
        "lastExecutedByKernel": "979f7325-9ca2-4d5b-91c7-f70ee5d7c0da",
        "lastScheduledRunId": null,
        "lastSuccessfullyExecutedCode": "reviews = df['Review'].tolist()\nreal_labels = df['Class'].tolist()",
        "id": "50e5b43b-b899-4ff6-8fd1-1a71b9840c84"
      },
      "cell_type": "code",
      "id": "50e5b43b-b899-4ff6-8fd1-1a71b9840c84",
      "outputs": [],
      "execution_count": null
    },
    {
      "source": [
        "reviews"
      ],
      "metadata": {
        "executionCancelledAt": null,
        "executionTime": 52,
        "lastExecutedAt": 1756624112557,
        "lastExecutedByKernel": "979f7325-9ca2-4d5b-91c7-f70ee5d7c0da",
        "lastScheduledRunId": null,
        "lastSuccessfullyExecutedCode": "reviews",
        "id": "36a16b32-4f06-4127-aed2-ff751a1ecf6c",
        "outputId": "d6b682ad-0e87-4d1f-cc9f-ba1c1473f2a3"
      },
      "cell_type": "code",
      "id": "36a16b32-4f06-4127-aed2-ff751a1ecf6c",
      "outputs": [
        {
          "output_type": "execute_result",
          "data": {
            "text/plain": "['I am very satisfied with my 2014 Nissan NV SL. I use this van for my business deliveries and personal use. Camping, road trips, etc. We dont have any children so I store most of the seats in my warehouse. I wanted the passenger van for the rear air conditioning. We drove our van from Florida to California for a Cross Country trip in 2014. We averaged about 18 mpg. We drove thru a lot of rain and It was a very comfortable and stable vehicle. The V8 Nissan Titan engine is a 500k mile engine. It has been tested many times by delivery and trucking companies. This is why Nissan gives you a 5 year or 100k mile bumper to bumper warranty. Many people are scared about driving this van because of its size. But with front and rear sonar sensors, large mirrors and the back up camera. It is easy to drive. The front and rear sensors also monitor the front and rear sides of the bumpers making it easier to park close to objects. Our Nissan NV is a Tow Monster. It pulls our 5000 pound travel trailer like its not even there. I have plenty of power to pass a vehicle if needed. The 5.6 liter engine produces 317 hp. I have owned Chevy and Ford vans and there were not very comfortable and had little cockpit room. The Nissan NV is the only vehicle made that has the engine forward like a pick up truck giving the driver plenty of room and comfort in the cockpit area. I dont have any negatives to say about my NV. This is a wide vehicle. The only modification I would like to see from Nissan is for them to add amber side mirror marker lights.BTW. I now own a 2016 Nissan NVP SL. Love it.',\n \"The car is fine. It's a bit loud and not very powerful. On one hand, compared to its peers, the interior is well-built. The transmission failed a few years ago, and the dealer replaced it under warranty with no issues. Now, about 60k miles later, the transmission is failing again. It sounds like a truck, and the issues are well-documented. The dealer tells me it is normal, refusing to do anything to resolve the issue. After owning the car for 4 years, there are many other vehicles I would purchase over this one. Initially, I really liked what the brand is about: ride quality, reliability, etc. But I will not purchase another one. Despite these concerns, I must say, the level of comfort in the car has always been satisfactory, but not worth the rest of issues found.\",\n 'My first foreign car. Love it, I would buy another.',\n 'I\\'ve come across numerous reviews praising the Rogue, and I genuinely feel like I might be missing something. It\\'s only been a week since I got the car, and I am genuinely disappointed. I truly wish I could return it. My main concern revolves around what I see as a significant design flaw (which I believe also exists in the Murano, though that wasn\\'t much better and considerably pricier). The rear windshield is just too small. The headrests in the back seat obstruct the sides of the rearview window. This \"Crossover\" feels more like a cheaply made compact car. My other vehicle is a Sonata, and it provides a significantly quieter and smoother ride. I did not anticipate this car to ride so roughly; my 2006 Pathfinder had a smoother ride! I would rate this car a 5 all around.',\n \"I've been dreaming of owning an SUV for quite a while, but I've been driving cars that were already paid for during an extended period. I ultimately made the decision to transition to a brand-new car, which, of course, involved taking on new payments. However, given that I don't drive extensively, I was inclined to avoid a substantial financial commitment. The Nissan Rogue provides me with the desired SUV experience without burdening me with an exorbitant payment; the financial arrangement is quite reasonable. Handling and styling are great; I have hauled 12 bags of mulch in the back with the seats down and could have held more. I am VERY satisfied overall. I find myself needing to exercise extra caution when making lane changes, particularly owing to the blind spots resulting from the small side windows situated towards the rear of the vehicle. To address this concern, I am actively engaged in making adjustments to my mirrors and consciously reducing the frequency of lane changes. The engine delivers strong performance, and the ride is really smooth.\"]"
          },
          "metadata": {},
          "execution_count": 76
        }
      ],
      "execution_count": null
    },
    {
      "source": [
        "## Classify car reviews"
      ],
      "metadata": {
        "id": "3a13526e-ef7c-49f5-b0e2-3e3f96d55b28"
      },
      "cell_type": "markdown",
      "id": "3a13526e-ef7c-49f5-b0e2-3e3f96d55b28"
    },
    {
      "source": [
        "### Model Selection"
      ],
      "metadata": {
        "id": "99965264-82fb-4784-9a0e-022c48642c7c"
      },
      "cell_type": "markdown",
      "id": "99965264-82fb-4784-9a0e-022c48642c7c"
    },
    {
      "source": [
        "# Create a sentiment analysis pipeline using the specified model\n",
        "sentiment_classifier = pipeline(\n",
        "    \"sentiment-analysis\",\n",
        "    model=\"distilbert-base-uncased-finetuned-sst-2-english\"\n",
        ")"
      ],
      "metadata": {
        "outputsMetadata": {
          "0": {
            "height": 38,
            "type": "stream"
          }
        },
        "id": "0fcbd4f0-d892-44f1-8871-af0496836149",
        "outputId": "d1419352-8ae8-4256-cb09-e81688611b4d"
      },
      "cell_type": "code",
      "id": "0fcbd4f0-d892-44f1-8871-af0496836149",
      "outputs": [
        {
          "output_type": "stream",
          "name": "stderr",
          "text": "Device set to use cpu\n"
        }
      ],
      "execution_count": null
    },
    {
      "source": [
        "### Label mapping for metrics computation"
      ],
      "metadata": {
        "id": "df69d7b8-8dae-4a01-835b-00504fe68e68"
      },
      "cell_type": "markdown",
      "id": "df69d7b8-8dae-4a01-835b-00504fe68e68"
    },
    {
      "source": [
        "Perform inference on the car reviews and display prediction results"
      ],
      "metadata": {
        "id": "c2063883-7992-4e61-8a25-3db4dc59934c"
      },
      "cell_type": "markdown",
      "id": "c2063883-7992-4e61-8a25-3db4dc59934c"
    },
    {
      "source": [
        "predicted_labels = sentiment_classifier(reviews)\n",
        "for review, prediction, label in zip(reviews, predicted_labels, real_labels):\n",
        "    print(f\"Review: {review}\\nActual Sentiment: {label}\\nPredicted Sentiment: {prediction['label']} (Confidence: {prediction['score']:.4f})\\n\")"
      ],
      "metadata": {
        "executionCancelledAt": null,
        "executionTime": 313,
        "lastExecutedAt": 1756624113013,
        "lastExecutedByKernel": "979f7325-9ca2-4d5b-91c7-f70ee5d7c0da",
        "lastScheduledRunId": null,
        "lastSuccessfullyExecutedCode": "predicted_labels = sentiment_classifier(reviews)\nfor review, prediction, label in zip(reviews, predicted_labels, real_labels):\n    print(f\"Review: {review}\\nActual Sentiment: {label}\\nPredicted Sentiment: {prediction['label']} (Confidence: {prediction['score']:.4f})\\n\")",
        "outputsMetadata": {
          "0": {
            "height": 616,
            "type": "stream"
          }
        },
        "id": "b5af1ed5-dbc3-41e8-a4dc-95208e9279fb",
        "outputId": "a59a713a-3d5e-4eb1-d16d-099e782d3041"
      },
      "cell_type": "code",
      "id": "b5af1ed5-dbc3-41e8-a4dc-95208e9279fb",
      "outputs": [
        {
          "output_type": "stream",
          "name": "stdout",
          "text": "Review: I am very satisfied with my 2014 Nissan NV SL. I use this van for my business deliveries and personal use. Camping, road trips, etc. We dont have any children so I store most of the seats in my warehouse. I wanted the passenger van for the rear air conditioning. We drove our van from Florida to California for a Cross Country trip in 2014. We averaged about 18 mpg. We drove thru a lot of rain and It was a very comfortable and stable vehicle. The V8 Nissan Titan engine is a 500k mile engine. It has been tested many times by delivery and trucking companies. This is why Nissan gives you a 5 year or 100k mile bumper to bumper warranty. Many people are scared about driving this van because of its size. But with front and rear sonar sensors, large mirrors and the back up camera. It is easy to drive. The front and rear sensors also monitor the front and rear sides of the bumpers making it easier to park close to objects. Our Nissan NV is a Tow Monster. It pulls our 5000 pound travel trailer like its not even there. I have plenty of power to pass a vehicle if needed. The 5.6 liter engine produces 317 hp. I have owned Chevy and Ford vans and there were not very comfortable and had little cockpit room. The Nissan NV is the only vehicle made that has the engine forward like a pick up truck giving the driver plenty of room and comfort in the cockpit area. I dont have any negatives to say about my NV. This is a wide vehicle. The only modification I would like to see from Nissan is for them to add amber side mirror marker lights.BTW. I now own a 2016 Nissan NVP SL. Love it.\nActual Sentiment: POSITIVE\nPredicted Sentiment: POSITIVE (Confidence: 0.9294)\n\nReview: The car is fine. It's a bit loud and not very powerful. On one hand, compared to its peers, the interior is well-built. The transmission failed a few years ago, and the dealer replaced it under warranty with no issues. Now, about 60k miles later, the transmission is failing again. It sounds like a truck, and the issues are well-documented. The dealer tells me it is normal, refusing to do anything to resolve the issue. After owning the car for 4 years, there are many other vehicles I would purchase over this one. Initially, I really liked what the brand is about: ride quality, reliability, etc. But I will not purchase another one. Despite these concerns, I must say, the level of comfort in the car has always been satisfactory, but not worth the rest of issues found.\nActual Sentiment: NEGATIVE\nPredicted Sentiment: POSITIVE (Confidence: 0.8654)\n\nReview: My first foreign car. Love it, I would buy another.\nActual Sentiment: POSITIVE\nPredicted Sentiment: POSITIVE (Confidence: 0.9995)\n\nReview: I've come across numerous reviews praising the Rogue, and I genuinely feel like I might be missing something. It's only been a week since I got the car, and I am genuinely disappointed. I truly wish I could return it. My main concern revolves around what I see as a significant design flaw (which I believe also exists in the Murano, though that wasn't much better and considerably pricier). The rear windshield is just too small. The headrests in the back seat obstruct the sides of the rearview window. This \"Crossover\" feels more like a cheaply made compact car. My other vehicle is a Sonata, and it provides a significantly quieter and smoother ride. I did not anticipate this car to ride so roughly; my 2006 Pathfinder had a smoother ride! I would rate this car a 5 all around.\nActual Sentiment: NEGATIVE\nPredicted Sentiment: NEGATIVE (Confidence: 0.9935)\n\nReview: I've been dreaming of owning an SUV for quite a while, but I've been driving cars that were already paid for during an extended period. I ultimately made the decision to transition to a brand-new car, which, of course, involved taking on new payments. However, given that I don't drive extensively, I was inclined to avoid a substantial financial commitment. The Nissan Rogue provides me with the desired SUV experience without burdening me with an exorbitant payment; the financial arrangement is quite reasonable. Handling and styling are great; I have hauled 12 bags of mulch in the back with the seats down and could have held more. I am VERY satisfied overall. I find myself needing to exercise extra caution when making lane changes, particularly owing to the blind spots resulting from the small side windows situated towards the rear of the vehicle. To address this concern, I am actively engaged in making adjustments to my mirrors and consciously reducing the frequency of lane changes. The engine delivers strong performance, and the ride is really smooth.\nActual Sentiment: POSITIVE\nPredicted Sentiment: POSITIVE (Confidence: 0.9987)\n\n"
        }
      ],
      "execution_count": null
    },
    {
      "source": [
        "Load accuracy and F1 score metrics    "
      ],
      "metadata": {
        "id": "0d478ded-9062-46d9-b29e-5ca2302beecb"
      },
      "cell_type": "markdown",
      "id": "0d478ded-9062-46d9-b29e-5ca2302beecb"
    },
    {
      "source": [
        "accuracy = evaluate.load(\"accuracy\")\n",
        "f1 = evaluate.load(\"f1\")"
      ],
      "metadata": {
        "executionCancelledAt": null,
        "executionTime": 214,
        "lastExecutedAt": 1756624113227,
        "lastExecutedByKernel": "979f7325-9ca2-4d5b-91c7-f70ee5d7c0da",
        "lastScheduledRunId": null,
        "lastSuccessfullyExecutedCode": "import evaluate\naccuracy = evaluate.load(\"accuracy\")\nf1 = evaluate.load(\"f1\")",
        "id": "f60f5fb6-4eff-4756-af23-aa16db14fadc"
      },
      "cell_type": "code",
      "id": "f60f5fb6-4eff-4756-af23-aa16db14fadc",
      "outputs": [],
      "execution_count": null
    },
    {
      "source": [
        "Map categorical sentiment labels into integer labels"
      ],
      "metadata": {
        "id": "fa91ba58-46eb-45b0-ac49-370ca0ff6eff"
      },
      "cell_type": "markdown",
      "id": "fa91ba58-46eb-45b0-ac49-370ca0ff6eff"
    },
    {
      "source": [
        "references = [1 if label == \"POSITIVE\" else 0 for label in real_labels]\n",
        "predictions = [1 if label['label'] == \"POSITIVE\" else 0 for label in predicted_labels]"
      ],
      "metadata": {
        "executionCancelledAt": null,
        "executionTime": 47,
        "lastExecutedAt": 1756624113276,
        "lastExecutedByKernel": "979f7325-9ca2-4d5b-91c7-f70ee5d7c0da",
        "lastScheduledRunId": null,
        "lastSuccessfullyExecutedCode": "references = [1 if label == \"POSITIVE\" else 0 for label in real_labels]\npredictions = [1 if label['label'] == \"POSITIVE\" else 0 for label in predicted_labels]",
        "id": "65bcdc41-b24b-4dd5-9361-8ef487a64f55"
      },
      "cell_type": "code",
      "id": "65bcdc41-b24b-4dd5-9361-8ef487a64f55",
      "outputs": [],
      "execution_count": null
    },
    {
      "source": [
        "Calculate accuracy and F1 score"
      ],
      "metadata": {
        "id": "e66f62dc-eddd-472c-b28e-2a02727c5364"
      },
      "cell_type": "markdown",
      "id": "e66f62dc-eddd-472c-b28e-2a02727c5364"
    },
    {
      "source": [
        "accuracy_result_dict = accuracy.compute(references=references, predictions=predictions)\n",
        "accuracy_result = accuracy_result_dict['accuracy']\n",
        "f1_result_dict = f1.compute(references=references, predictions=predictions)\n",
        "f1_result = f1_result_dict['f1']"
      ],
      "metadata": {
        "executionCancelledAt": null,
        "executionTime": 46,
        "lastExecutedAt": 1756624113324,
        "lastExecutedByKernel": "979f7325-9ca2-4d5b-91c7-f70ee5d7c0da",
        "lastScheduledRunId": null,
        "lastSuccessfullyExecutedCode": "accuracy_result_dict = accuracy.compute(references=references, predictions=predictions)\naccuracy_result = accuracy_result_dict['accuracy']\nf1_result_dict = f1.compute(references=references, predictions=predictions)\nf1_result = f1_result_dict['f1']",
        "id": "510501cf-9bfc-4906-bc75-cfb63db06ebb"
      },
      "cell_type": "code",
      "id": "510501cf-9bfc-4906-bc75-cfb63db06ebb",
      "outputs": [],
      "execution_count": null
    },
    {
      "source": [
        "print(f\"Accuracy: {accuracy_result}\")\n",
        "print(f\"F1 result: {f1_result}\")"
      ],
      "metadata": {
        "outputsMetadata": {
          "0": {
            "height": 59,
            "type": "stream"
          }
        },
        "id": "2cc46c91-bee5-417c-bf45-7d584e2c0c62",
        "outputId": "0241b715-4b91-4d82-b388-5fa777fe2eaa"
      },
      "cell_type": "code",
      "id": "2cc46c91-bee5-417c-bf45-7d584e2c0c62",
      "outputs": [
        {
          "output_type": "stream",
          "name": "stdout",
          "text": "Accuracy: 0.8\nF1 result: 0.8571428571428571\n"
        }
      ],
      "execution_count": null
    },
    {
      "source": [
        "## Translate a car review"
      ],
      "metadata": {
        "id": "4246f7f4-53c6-4ec4-8ab5-4c79b020301a"
      },
      "cell_type": "markdown",
      "id": "4246f7f4-53c6-4ec4-8ab5-4c79b020301a"
    },
    {
      "source": [
        "### Load translation LLM into a pipeline and translate car review"
      ],
      "metadata": {
        "id": "bc55b36c-dcb9-4d0e-8eac-485e53bebdd5"
      },
      "cell_type": "markdown",
      "id": "bc55b36c-dcb9-4d0e-8eac-485e53bebdd5"
    },
    {
      "source": [
        "first_review = reviews[0]\n",
        "first_review"
      ],
      "metadata": {
        "executionCancelledAt": null,
        "executionTime": 48,
        "lastExecutedAt": 1756624113420,
        "lastExecutedByKernel": "979f7325-9ca2-4d5b-91c7-f70ee5d7c0da",
        "lastScheduledRunId": null,
        "lastSuccessfullyExecutedCode": "first_review = reviews[0]\nfirst_review",
        "id": "28560df4-b72a-4fa3-ba8a-202676848566",
        "outputId": "73ac3a17-7265-437c-a748-26d3d2896b71"
      },
      "cell_type": "code",
      "id": "28560df4-b72a-4fa3-ba8a-202676848566",
      "outputs": [
        {
          "output_type": "execute_result",
          "data": {
            "text/plain": "'I am very satisfied with my 2014 Nissan NV SL. I use this van for my business deliveries and personal use. Camping, road trips, etc. We dont have any children so I store most of the seats in my warehouse. I wanted the passenger van for the rear air conditioning. We drove our van from Florida to California for a Cross Country trip in 2014. We averaged about 18 mpg. We drove thru a lot of rain and It was a very comfortable and stable vehicle. The V8 Nissan Titan engine is a 500k mile engine. It has been tested many times by delivery and trucking companies. This is why Nissan gives you a 5 year or 100k mile bumper to bumper warranty. Many people are scared about driving this van because of its size. But with front and rear sonar sensors, large mirrors and the back up camera. It is easy to drive. The front and rear sensors also monitor the front and rear sides of the bumpers making it easier to park close to objects. Our Nissan NV is a Tow Monster. It pulls our 5000 pound travel trailer like its not even there. I have plenty of power to pass a vehicle if needed. The 5.6 liter engine produces 317 hp. I have owned Chevy and Ford vans and there were not very comfortable and had little cockpit room. The Nissan NV is the only vehicle made that has the engine forward like a pick up truck giving the driver plenty of room and comfort in the cockpit area. I dont have any negatives to say about my NV. This is a wide vehicle. The only modification I would like to see from Nissan is for them to add amber side mirror marker lights.BTW. I now own a 2016 Nissan NVP SL. Love it.'"
          },
          "metadata": {},
          "execution_count": 83
        }
      ],
      "execution_count": null
    },
    {
      "source": [
        "translator = pipeline(\"translation\", model=\"Helsinki-NLP/opus-mt-en-es\")\n",
        "translated_review = translator(first_review, max_length=27)[0]['translation_text']"
      ],
      "metadata": {
        "executionCancelledAt": null,
        "executionTime": 1895,
        "lastExecutedAt": 1756624115315,
        "lastExecutedByKernel": "979f7325-9ca2-4d5b-91c7-f70ee5d7c0da",
        "lastScheduledRunId": null,
        "lastSuccessfullyExecutedCode": "translator = pipeline(\"translation\", model=\"Helsinki-NLP/opus-mt-en-es\")\ntranslated_review = translator(first_review, max_length=27)[0]['translation_text']",
        "outputsMetadata": {
          "0": {
            "height": 59,
            "type": "stream"
          },
          "8": {
            "height": 80,
            "type": "stream"
          }
        },
        "id": "9fcf6bef-a641-4eab-afb6-ae2c5d0121a1",
        "outputId": "febf7aa7-89f7-4d10-a9e5-4bdebf6ea982"
      },
      "cell_type": "code",
      "id": "9fcf6bef-a641-4eab-afb6-ae2c5d0121a1",
      "outputs": [
        {
          "output_type": "stream",
          "name": "stderr",
          "text": "Device set to use cpu\nYour input_length: 365 is bigger than 0.9 * max_length: 27. You might consider increasing your max_length manually, e.g. translator('...', max_length=400)\n"
        }
      ],
      "execution_count": null
    },
    {
      "source": [
        "print(f\"Model translation:\\n{translated_review}\")"
      ],
      "metadata": {
        "executionCancelledAt": null,
        "executionTime": 48,
        "lastExecutedAt": 1756624115365,
        "lastExecutedByKernel": "979f7325-9ca2-4d5b-91c7-f70ee5d7c0da",
        "lastScheduledRunId": null,
        "lastSuccessfullyExecutedCode": "print(f\"Model translation:\\n{translated_review}\")",
        "outputsMetadata": {
          "0": {
            "height": 59,
            "type": "stream"
          }
        },
        "id": "41224cc5-dc56-4389-b15c-ffb2c860b1d3",
        "outputId": "51f401ea-0c1f-44a3-d622-bec9466da24f"
      },
      "cell_type": "code",
      "id": "41224cc5-dc56-4389-b15c-ffb2c860b1d3",
      "outputs": [
        {
          "output_type": "stream",
          "name": "stdout",
          "text": "Model translation:\nEstoy muy satisfecho con mi 2014 Nissan NV SL. Uso esta furgoneta para mis entregas de negocios y uso personal.\n"
        }
      ],
      "execution_count": null
    },
    {
      "source": [
        "### Load reference translations from file"
      ],
      "metadata": {
        "id": "2cacab45-c2d6-4d02-bd8f-5b0d0af846f4"
      },
      "cell_type": "markdown",
      "id": "2cacab45-c2d6-4d02-bd8f-5b0d0af846f4"
    },
    {
      "source": [
        "with open(\"data/reference_translations.txt\", 'r') as file:\n",
        "    lines = file.readlines()\n",
        "references = [line.strip() for line in lines]"
      ],
      "metadata": {
        "executionCancelledAt": null,
        "executionTime": 47,
        "lastExecutedAt": 1756624115412,
        "lastExecutedByKernel": "979f7325-9ca2-4d5b-91c7-f70ee5d7c0da",
        "lastScheduledRunId": null,
        "lastSuccessfullyExecutedCode": "with open(\"data/reference_translations.txt\", 'r') as file:\n    lines = file.readlines()\nreferences = [line.strip() for line in lines]",
        "id": "0186003d-de32-4101-b4aa-658efcc27a13"
      },
      "cell_type": "code",
      "id": "0186003d-de32-4101-b4aa-658efcc27a13",
      "outputs": [],
      "execution_count": null
    },
    {
      "source": [
        "print(f\"Spanish translation references:\\n{references}\")"
      ],
      "metadata": {
        "executionCancelledAt": null,
        "executionTime": 48,
        "lastExecutedAt": 1756624115461,
        "lastExecutedByKernel": "979f7325-9ca2-4d5b-91c7-f70ee5d7c0da",
        "lastScheduledRunId": null,
        "lastSuccessfullyExecutedCode": "print(f\"Spanish translation references:\\n{references}\")",
        "outputsMetadata": {
          "0": {
            "height": 80,
            "type": "stream"
          }
        },
        "id": "011061a4-6c58-4d23-b037-c5dda23eeb74",
        "outputId": "3a9fe9cd-cd6b-4c41-9b62-efcfc825783c"
      },
      "cell_type": "code",
      "id": "011061a4-6c58-4d23-b037-c5dda23eeb74",
      "outputs": [
        {
          "output_type": "stream",
          "name": "stdout",
          "text": "Spanish translation references:\n['Estoy muy satisfecho con mi Nissan NV SL 2014. Utilizo esta camioneta para mis entregas comerciales y uso personal.', 'Estoy muy satisfecho con mi Nissan NV SL 2014. Uso esta furgoneta para mis entregas comerciales y uso personal.']\n"
        }
      ],
      "execution_count": null
    },
    {
      "source": [
        "###  Load and calculate BLEU score metric\n",
        "\n",
        "The BLEU score is a metric for evaluating the quality of machine translation. It measures the similarity between the machine-translated text and a set of high-quality reference translations. The score is a number between 0 and 1, where a score closer to 1 indicates a higher quality translation."
      ],
      "metadata": {
        "id": "83551162-0bb7-42fa-8559-c15f59b341fc"
      },
      "cell_type": "markdown",
      "id": "83551162-0bb7-42fa-8559-c15f59b341fc"
    },
    {
      "source": [
        "bleu = evaluate.load(\"bleu\")\n",
        "bleu_score = bleu.compute(predictions=[translated_review], references=[references])"
      ],
      "metadata": {
        "executionCancelledAt": null,
        "executionTime": 307,
        "lastExecutedAt": 1756624115769,
        "lastExecutedByKernel": "979f7325-9ca2-4d5b-91c7-f70ee5d7c0da",
        "lastScheduledRunId": null,
        "lastSuccessfullyExecutedCode": "bleu = evaluate.load(\"bleu\")\nbleu_score = bleu.compute(predictions=[translated_review], references=[references])",
        "id": "35d4dd97-0fef-4313-aa87-883171d837fb"
      },
      "cell_type": "code",
      "id": "35d4dd97-0fef-4313-aa87-883171d837fb",
      "outputs": [],
      "execution_count": null
    },
    {
      "source": [
        "print(bleu_score['bleu'])"
      ],
      "metadata": {
        "executionCancelledAt": null,
        "executionTime": 46,
        "lastExecutedAt": 1756624115817,
        "lastExecutedByKernel": "979f7325-9ca2-4d5b-91c7-f70ee5d7c0da",
        "lastScheduledRunId": null,
        "lastSuccessfullyExecutedCode": "print(bleu_score['bleu'])",
        "outputsMetadata": {
          "0": {
            "height": 38,
            "type": "stream"
          }
        },
        "id": "b1be81b9-7ef5-4aa8-b06b-fc8f210455fd",
        "outputId": "c11039b1-6120-4440-a642-f29a47a88c25"
      },
      "cell_type": "code",
      "id": "b1be81b9-7ef5-4aa8-b06b-fc8f210455fd",
      "outputs": [
        {
          "output_type": "stream",
          "name": "stdout",
          "text": "0.6022774485691839\n"
        }
      ],
      "execution_count": null
    },
    {
      "cell_type": "markdown",
      "source": [
        "A BLEU score of 0.6023 means that the machine translation is moderately similar to the reference translations. It's a decent score, but there is room for improvement to make the translation even closer to human-quality translations."
      ],
      "metadata": {
        "id": "vYE5kazYMSKY"
      },
      "id": "vYE5kazYMSKY"
    },
    {
      "source": [
        "## Q&A"
      ],
      "metadata": {
        "id": "3b78d39d-b173-4c3d-b647-78758e3a124c"
      },
      "cell_type": "markdown",
      "id": "3b78d39d-b173-4c3d-b647-78758e3a124c"
    },
    {
      "source": [
        "### Instantiate model"
      ],
      "metadata": {
        "id": "6e2fb365-9461-4363-bcd1-dbc0b9830657"
      },
      "cell_type": "markdown",
      "id": "6e2fb365-9461-4363-bcd1-dbc0b9830657"
    },
    {
      "source": [
        "nlp_model = pipeline(\"question-answering\", model=\"deepset/minilm-uncased-squad2\")"
      ],
      "metadata": {
        "executionCancelledAt": null,
        "executionTime": null,
        "lastExecutedAt": null,
        "lastExecutedByKernel": null,
        "lastScheduledRunId": null,
        "lastSuccessfullyExecutedCode": null,
        "outputsMetadata": {
          "0": {
            "height": 164,
            "type": "stream"
          },
          "2": {
            "height": 164,
            "type": "stream"
          },
          "6": {
            "height": 38,
            "type": "stream"
          }
        },
        "id": "8c298e27-b1c8-429a-a4cf-0e7de8147598",
        "outputId": "7a7c715f-dd68-46dc-8c57-96748243fd21"
      },
      "cell_type": "code",
      "id": "8c298e27-b1c8-429a-a4cf-0e7de8147598",
      "outputs": [
        {
          "output_type": "stream",
          "name": "stderr",
          "text": "Some weights of the model checkpoint at deepset/minilm-uncased-squad2 were not used when initializing BertForQuestionAnswering: ['bert.pooler.dense.bias', 'bert.pooler.dense.weight']\n- This IS expected if you are initializing BertForQuestionAnswering from the checkpoint of a model trained on another task or with another architecture (e.g. initializing a BertForSequenceClassification model from a BertForPreTraining model).\n- This IS NOT expected if you are initializing BertForQuestionAnswering from the checkpoint of a model that you expect to be exactly identical (initializing a BertForSequenceClassification model from a BertForSequenceClassification model).\nDevice set to use cpu\n"
        }
      ],
      "execution_count": null
    },
    {
      "source": [
        "### Define context and question, and tokenize them"
      ],
      "metadata": {
        "id": "c47b861e-bcbf-48c4-95a7-441043126269"
      },
      "cell_type": "markdown",
      "id": "c47b861e-bcbf-48c4-95a7-441043126269"
    },
    {
      "source": [
        "context = reviews[1]\n",
        "print(f\"Context:\\n{context}\")"
      ],
      "metadata": {
        "executionCancelledAt": null,
        "executionTime": 47,
        "lastExecutedAt": 1756624116021,
        "lastExecutedByKernel": "979f7325-9ca2-4d5b-91c7-f70ee5d7c0da",
        "lastScheduledRunId": null,
        "lastSuccessfullyExecutedCode": "context = reviews[1]\nprint(f\"Context:\\n{context}\")",
        "outputsMetadata": {
          "0": {
            "height": 143,
            "type": "stream"
          }
        },
        "id": "bfd686a6-8e2a-404f-b9b1-64b3b8c9cc3e",
        "outputId": "02df1c1e-c832-4605-8cd3-3728f448120d"
      },
      "cell_type": "code",
      "id": "bfd686a6-8e2a-404f-b9b1-64b3b8c9cc3e",
      "outputs": [
        {
          "output_type": "stream",
          "name": "stdout",
          "text": "Context:\nThe car is fine. It's a bit loud and not very powerful. On one hand, compared to its peers, the interior is well-built. The transmission failed a few years ago, and the dealer replaced it under warranty with no issues. Now, about 60k miles later, the transmission is failing again. It sounds like a truck, and the issues are well-documented. The dealer tells me it is normal, refusing to do anything to resolve the issue. After owning the car for 4 years, there are many other vehicles I would purchase over this one. Initially, I really liked what the brand is about: ride quality, reliability, etc. But I will not purchase another one. Despite these concerns, I must say, the level of comfort in the car has always been satisfactory, but not worth the rest of issues found.\n"
        }
      ],
      "execution_count": null
    },
    {
      "source": [
        "question = \"What did he like about the brand?\"\n",
        "#inputs = tokenizer(question, context, return_tensors=\"pt\")\n",
        "\n",
        "# Use the pipeline with the context and question\n",
        "result = nlp_model(question=question, context=context)"
      ],
      "metadata": {
        "executionCancelledAt": null,
        "executionTime": 52,
        "lastExecutedAt": 1756624116073,
        "lastExecutedByKernel": "979f7325-9ca2-4d5b-91c7-f70ee5d7c0da",
        "lastScheduledRunId": null,
        "lastSuccessfullyExecutedCode": "question = \"What did he like about the brand?\"\n#inputs = tokenizer(question, context, return_tensors=\"pt\")\n\n# Use the pipeline with the context and question\nresult = nlp_model(question=question, context=context)",
        "id": "d2289edf-add6-4081-a80e-8fde3493dce5"
      },
      "cell_type": "code",
      "id": "d2289edf-add6-4081-a80e-8fde3493dce5",
      "outputs": [],
      "execution_count": null
    },
    {
      "source": [
        "answer = result['answer']"
      ],
      "metadata": {
        "executionCancelledAt": null,
        "executionTime": 51,
        "lastExecutedAt": 1756624116124,
        "lastExecutedByKernel": "979f7325-9ca2-4d5b-91c7-f70ee5d7c0da",
        "lastScheduledRunId": null,
        "lastSuccessfullyExecutedCode": "answer = result['answer']",
        "id": "eb7a2413-edbe-4c87-bcbe-4e67f087eb23"
      },
      "cell_type": "code",
      "id": "eb7a2413-edbe-4c87-bcbe-4e67f087eb23",
      "outputs": [],
      "execution_count": null
    },
    {
      "source": [
        "# Print the result\n",
        "print(answer)"
      ],
      "metadata": {
        "executionCancelledAt": null,
        "executionTime": 48,
        "lastExecutedAt": 1756624116173,
        "lastExecutedByKernel": "979f7325-9ca2-4d5b-91c7-f70ee5d7c0da",
        "lastScheduledRunId": null,
        "lastSuccessfullyExecutedCode": "# Print the result\nprint(answer)",
        "outputsMetadata": {
          "0": {
            "height": 38,
            "type": "stream"
          }
        },
        "id": "5d52fbd3-79ae-4bff-90c5-0c3eabd4f83c",
        "outputId": "a068ee2c-58c2-4051-c4a0-23dc61109c9a"
      },
      "cell_type": "code",
      "id": "5d52fbd3-79ae-4bff-90c5-0c3eabd4f83c",
      "outputs": [
        {
          "output_type": "stream",
          "name": "stdout",
          "text": "ride quality, reliability\n"
        }
      ],
      "execution_count": null
    },
    {
      "source": [
        "## Summarize and analyze"
      ],
      "metadata": {
        "id": "bba9159b-79d3-4b59-9026-23ac9d89c965"
      },
      "cell_type": "markdown",
      "id": "bba9159b-79d3-4b59-9026-23ac9d89c965"
    },
    {
      "source": [
        "### Get original text to summarize upon car review"
      ],
      "metadata": {
        "id": "5723f185-3ada-4391-bbae-5a4e5bc65b25"
      },
      "cell_type": "markdown",
      "id": "5723f185-3ada-4391-bbae-5a4e5bc65b25"
    },
    {
      "source": [
        "text_to_summarize = reviews[-1]\n",
        "print(f\"Original text:\\n{text_to_summarize}\")"
      ],
      "metadata": {
        "executionCancelledAt": null,
        "executionTime": 48,
        "lastExecutedAt": 1756624116221,
        "lastExecutedByKernel": "979f7325-9ca2-4d5b-91c7-f70ee5d7c0da",
        "lastScheduledRunId": null,
        "lastSuccessfullyExecutedCode": "text_to_summarize = reviews[-1]\nprint(f\"Original text:\\n{text_to_summarize}\")",
        "outputsMetadata": {
          "0": {
            "height": 185,
            "type": "stream"
          }
        },
        "id": "cd117eb6-5301-4f23-945f-8a1e9f232360",
        "outputId": "b1e651b3-b264-4a06-85e4-c15fa4620f76"
      },
      "cell_type": "code",
      "id": "cd117eb6-5301-4f23-945f-8a1e9f232360",
      "outputs": [
        {
          "output_type": "stream",
          "name": "stdout",
          "text": "Original text:\nI've been dreaming of owning an SUV for quite a while, but I've been driving cars that were already paid for during an extended period. I ultimately made the decision to transition to a brand-new car, which, of course, involved taking on new payments. However, given that I don't drive extensively, I was inclined to avoid a substantial financial commitment. The Nissan Rogue provides me with the desired SUV experience without burdening me with an exorbitant payment; the financial arrangement is quite reasonable. Handling and styling are great; I have hauled 12 bags of mulch in the back with the seats down and could have held more. I am VERY satisfied overall. I find myself needing to exercise extra caution when making lane changes, particularly owing to the blind spots resulting from the small side windows situated towards the rear of the vehicle. To address this concern, I am actively engaged in making adjustments to my mirrors and consciously reducing the frequency of lane changes. The engine delivers strong performance, and the ride is really smooth.\n"
        }
      ],
      "execution_count": null
    },
    {
      "source": [
        "### Load summarization pipeline and perform inference"
      ],
      "metadata": {
        "id": "9eab2a92-ad1a-4737-95c4-7fba0a71c5ac"
      },
      "cell_type": "markdown",
      "id": "9eab2a92-ad1a-4737-95c4-7fba0a71c5ac"
    },
    {
      "source": [
        "model_name = \"cnicu/t5-small-booksum\"\n",
        "summarizer = pipeline(\"summarization\", model=model_name)"
      ],
      "metadata": {
        "executionCancelledAt": null,
        "executionTime": 231,
        "lastExecutedAt": 1756624116452,
        "lastExecutedByKernel": "979f7325-9ca2-4d5b-91c7-f70ee5d7c0da",
        "lastScheduledRunId": null,
        "lastSuccessfullyExecutedCode": "model_name = \"cnicu/t5-small-booksum\"\nsummarizer = pipeline(\"summarization\", model=model_name)",
        "outputsMetadata": {
          "0": {
            "height": 38,
            "type": "stream"
          },
          "7": {
            "height": 38,
            "type": "stream"
          }
        },
        "id": "4813dd6a-82a2-481f-bd08-312b1e2f3a7d",
        "outputId": "76d826c9-45a6-4159-d872-888eea188ed4"
      },
      "cell_type": "code",
      "id": "4813dd6a-82a2-481f-bd08-312b1e2f3a7d",
      "outputs": [
        {
          "output_type": "stream",
          "name": "stderr",
          "text": "Device set to use cpu\n"
        }
      ],
      "execution_count": null
    },
    {
      "source": [
        "outputs = summarizer(text_to_summarize, max_length=53)\n",
        "summarized_text = outputs[0]['summary_text']"
      ],
      "metadata": {
        "executionCancelledAt": null,
        "executionTime": 1156,
        "lastExecutedAt": 1756624117608,
        "lastExecutedByKernel": "979f7325-9ca2-4d5b-91c7-f70ee5d7c0da",
        "lastScheduledRunId": null,
        "lastSuccessfullyExecutedCode": "outputs = summarizer(text_to_summarize, max_length=53)\nsummarized_text = outputs[0]['summary_text']",
        "id": "dbb5c666-3e5c-4489-84ef-fbdbfe4beccd"
      },
      "cell_type": "code",
      "id": "dbb5c666-3e5c-4489-84ef-fbdbfe4beccd",
      "outputs": [],
      "execution_count": null
    },
    {
      "source": [
        "print(f\"Summarized text:\\n{summarized_text}\")"
      ],
      "metadata": {
        "executionCancelledAt": null,
        "executionTime": 47,
        "lastExecutedAt": 1756624117657,
        "lastExecutedByKernel": "979f7325-9ca2-4d5b-91c7-f70ee5d7c0da",
        "lastScheduledRunId": null,
        "lastSuccessfullyExecutedCode": "print(f\"Summarized text:\\n{summarized_text}\")",
        "outputsMetadata": {
          "0": {
            "height": 80,
            "type": "stream"
          }
        },
        "id": "5e197523-1d29-4a1c-8d8e-6f3da1235426",
        "outputId": "dfcdb36f-5d5e-4fbf-cffe-b69d8318b61e"
      },
      "cell_type": "code",
      "id": "5e197523-1d29-4a1c-8d8e-6f3da1235426",
      "outputs": [
        {
          "output_type": "stream",
          "name": "stdout",
          "text": "Summarized text:\nthe Nissan Rogue provides me with the desired SUV experience without burdening me with an exorbitant payment; the financial arrangement is quite reasonable. I have hauled 12 bags of mulch in the back with the seats down and could have held more.\n"
        }
      ],
      "execution_count": null
    }
  ],
  "metadata": {
    "language_info": {
      "name": "python",
      "version": "3.10.12",
      "mimetype": "text/x-python",
      "codemirror_mode": {
        "name": "ipython",
        "version": 3
      },
      "pygments_lexer": "ipython3",
      "nbconvert_exporter": "python",
      "file_extension": ".py"
    },
    "kernelspec": {
      "display_name": "Python 3 (ipykernel)",
      "language": "python",
      "name": "python3"
    },
    "editor": "DataLab",
    "colab": {
      "provenance": []
    }
  },
  "nbformat": 4,
  "nbformat_minor": 5
}